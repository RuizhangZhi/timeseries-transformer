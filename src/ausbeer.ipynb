{
 "cells": [
  {
   "cell_type": "code",
   "execution_count": 1,
   "metadata": {},
   "outputs": [],
   "source": [
    "import os\n",
    "from dotenv import load_dotenv\n",
    "from nixtlats import TimeGPT\n",
    "import numpy as np\n",
    "import pandas as pd\n",
    "import plotly.graph_objects as go\n",
    "from sklearn.metrics import mean_squared_error, mean_absolute_error\n",
    "from statsmodels.tsa.stattools import acf"
   ]
  },
  {
   "cell_type": "code",
   "execution_count": 2,
   "metadata": {},
   "outputs": [],
   "source": [
    "load_dotenv()\n",
    "os.environ['TIMEGPT_TOKEN'] = os.getenv(\"MY_NIXTLA_SECRET_KEY\")"
   ]
  },
  {
   "cell_type": "code",
   "execution_count": 3,
   "metadata": {},
   "outputs": [],
   "source": [
    "timegpt = TimeGPT(token=os.environ['TIMEGPT_TOKEN'])\n",
    "timegpt.validate_token()"
   ]
  },
  {
   "cell_type": "code",
   "execution_count": 4,
   "metadata": {},
   "outputs": [],
   "source": [
    "def calculate_forecasting_accuracy(y_true, y_pred):\n",
    "    # Ensure numpy arrays\n",
    "    y_true = np.array(y_true)\n",
    "    y_pred = np.array(y_pred)\n",
    "    # Calculate errors\n",
    "    errors = y_true - y_pred\n",
    "    absolute_errors = np.abs(errors)\n",
    "    # ME - Mean Error\n",
    "    me = np.mean(errors)\n",
    "    # RMSE - Root Mean Squared Error\n",
    "    rmse = np.sqrt(mean_squared_error(y_true, y_pred))\n",
    "    # MAE - Mean Absolute Error\n",
    "    mae = mean_absolute_error(y_true, y_pred)\n",
    "    # MPE - Mean Percentage Error\n",
    "    mpe = np.mean((errors / y_true) * 100)\n",
    "    # MAPE - Mean Absolute Percentage Error\n",
    "    mape = np.mean(absolute_errors / y_true) * 100\n",
    "    # MASE - Mean Absolute Scaled Error\n",
    "    naive_forecast_errors = np.abs(np.diff(y_true))\n",
    "    mase = mae / np.mean(naive_forecast_errors)\n",
    "    # ACF1 - Autocorrelation of Errors at Lag 1\n",
    "    acf_values = acf(errors, fft=False, missing='conservative')\n",
    "    acf1 = acf_values[1] if len(acf_values) > 1 else None\n",
    "    # Theil's U\n",
    "    theil_u = np.sqrt(np.mean(np.square(errors))) / (np.sqrt(np.mean(np.square(y_true))) + np.sqrt(np.mean(np.square(y_pred))))\n",
    "    return {\n",
    "        'ME': me,\n",
    "        'RMSE': rmse,\n",
    "        'MAE': mae,\n",
    "        'MPE': mpe,\n",
    "        'MAPE': mape,\n",
    "        'MASE': mase,\n",
    "        'ACF1': acf1,\n",
    "        'Theil\\'s U': theil_u\n",
    "    }"
   ]
  },
  {
   "cell_type": "code",
   "execution_count": 5,
   "metadata": {},
   "outputs": [],
   "source": [
    "def plot_time_series(df_raw, df_pred, title='Time Series with Predictions'):\n",
    "    # Actual values trace\n",
    "    actual_trace = go.Scatter(\n",
    "        x=df_raw['timestamp'],\n",
    "        y=df_raw['value'],\n",
    "        mode='lines',\n",
    "        name='Actual'\n",
    "    )\n",
    "    # Predicted values trace\n",
    "    prediction_trace = go.Scatter(\n",
    "        x=df_pred['timestamp'],\n",
    "        y=df_pred['TimeGPT'],\n",
    "        mode='lines',\n",
    "        name='Prediction'\n",
    "    )\n",
    "    \n",
    "    # Layout of the plot\n",
    "    layout = go.Layout(\n",
    "        title=title,\n",
    "        xaxis=dict(title='Date'),\n",
    "        yaxis=dict(title='Value'),\n",
    "        xaxis_rangeslider_visible=True  # This adds a rangeslider at the bottom\n",
    "    )\n",
    "    \n",
    "    # Create the figure with both traces\n",
    "    fig = go.Figure(data=[actual_trace, prediction_trace], layout=layout)\n",
    "    \n",
    "    # Show the figure\n",
    "    fig.show()"
   ]
  },
  {
   "cell_type": "code",
   "execution_count": 6,
   "metadata": {},
   "outputs": [],
   "source": [
    "df_ausbeer = pd.read_csv('../ausbeer.csv')\n",
    "df_ausbeer['timestamp'] = pd.to_datetime(df_ausbeer['timestamp'])\n",
    "df_ausbeer_train = df_ausbeer.iloc[:176,:]\n",
    "df_ausbeer_test = df_ausbeer.iloc[176:,:]"
   ]
  },
  {
   "cell_type": "code",
   "execution_count": 8,
   "metadata": {},
   "outputs": [],
   "source": [
    "df_ausbeer_fcst = timegpt.forecast(df_ausbeer_train, \n",
    "                 h=42,\n",
    "                 freq='QS',\n",
    "                 time_col='timestamp', \n",
    "                 target_col='value')"
   ]
  },
  {
   "cell_type": "code",
   "execution_count": 9,
   "metadata": {},
   "outputs": [
    {
     "data": {
      "text/plain": [
       "{'ME': -22.82361493791853,\n",
       " 'RMSE': 28.468517669622386,\n",
       " 'MAE': 23.755416870117195,\n",
       " 'MPE': -5.556239873372521,\n",
       " 'MAPE': 5.752354190012487,\n",
       " 'MASE': 0.5023063907554436,\n",
       " 'ACF1': -0.2204614759612863,\n",
       " \"Theil's U\": 0.03231758841602477}"
      ]
     },
     "execution_count": 9,
     "metadata": {},
     "output_type": "execute_result"
    }
   ],
   "source": [
    "calculate_forecasting_accuracy(df_ausbeer_test['value'], df_ausbeer_fcst['TimeGPT'])"
   ]
  },
  {
   "cell_type": "code",
   "execution_count": 10,
   "metadata": {},
   "outputs": [
    {
     "data": {
      "application/vnd.plotly.v1+json": {
       "config": {
        "plotlyServerURL": "https://plot.ly"
       },
       "data": [
        {
         "mode": "lines",
         "name": "Actual",
         "type": "scatter",
         "x": [
          "1956-01-01T00:00:00",
          "1956-04-01T00:00:00",
          "1956-07-01T00:00:00",
          "1956-10-01T00:00:00",
          "1957-01-01T00:00:00",
          "1957-04-01T00:00:00",
          "1957-07-01T00:00:00",
          "1957-10-01T00:00:00",
          "1958-01-01T00:00:00",
          "1958-04-01T00:00:00",
          "1958-07-01T00:00:00",
          "1958-10-01T00:00:00",
          "1959-01-01T00:00:00",
          "1959-04-01T00:00:00",
          "1959-07-01T00:00:00",
          "1959-10-01T00:00:00",
          "1960-01-01T00:00:00",
          "1960-04-01T00:00:00",
          "1960-07-01T00:00:00",
          "1960-10-01T00:00:00",
          "1961-01-01T00:00:00",
          "1961-04-01T00:00:00",
          "1961-07-01T00:00:00",
          "1961-10-01T00:00:00",
          "1962-01-01T00:00:00",
          "1962-04-01T00:00:00",
          "1962-07-01T00:00:00",
          "1962-10-01T00:00:00",
          "1963-01-01T00:00:00",
          "1963-04-01T00:00:00",
          "1963-07-01T00:00:00",
          "1963-10-01T00:00:00",
          "1964-01-01T00:00:00",
          "1964-04-01T00:00:00",
          "1964-07-01T00:00:00",
          "1964-10-01T00:00:00",
          "1965-01-01T00:00:00",
          "1965-04-01T00:00:00",
          "1965-07-01T00:00:00",
          "1965-10-01T00:00:00",
          "1966-01-01T00:00:00",
          "1966-04-01T00:00:00",
          "1966-07-01T00:00:00",
          "1966-10-01T00:00:00",
          "1967-01-01T00:00:00",
          "1967-04-01T00:00:00",
          "1967-07-01T00:00:00",
          "1967-10-01T00:00:00",
          "1968-01-01T00:00:00",
          "1968-04-01T00:00:00",
          "1968-07-01T00:00:00",
          "1968-10-01T00:00:00",
          "1969-01-01T00:00:00",
          "1969-04-01T00:00:00",
          "1969-07-01T00:00:00",
          "1969-10-01T00:00:00",
          "1970-01-01T00:00:00",
          "1970-04-01T00:00:00",
          "1970-07-01T00:00:00",
          "1970-10-01T00:00:00",
          "1971-01-01T00:00:00",
          "1971-04-01T00:00:00",
          "1971-07-01T00:00:00",
          "1971-10-01T00:00:00",
          "1972-01-01T00:00:00",
          "1972-04-01T00:00:00",
          "1972-07-01T00:00:00",
          "1972-10-01T00:00:00",
          "1973-01-01T00:00:00",
          "1973-04-01T00:00:00",
          "1973-07-01T00:00:00",
          "1973-10-01T00:00:00",
          "1974-01-01T00:00:00",
          "1974-04-01T00:00:00",
          "1974-07-01T00:00:00",
          "1974-10-01T00:00:00",
          "1975-01-01T00:00:00",
          "1975-04-01T00:00:00",
          "1975-07-01T00:00:00",
          "1975-10-01T00:00:00",
          "1976-01-01T00:00:00",
          "1976-04-01T00:00:00",
          "1976-07-01T00:00:00",
          "1976-10-01T00:00:00",
          "1977-01-01T00:00:00",
          "1977-04-01T00:00:00",
          "1977-07-01T00:00:00",
          "1977-10-01T00:00:00",
          "1978-01-01T00:00:00",
          "1978-04-01T00:00:00",
          "1978-07-01T00:00:00",
          "1978-10-01T00:00:00",
          "1979-01-01T00:00:00",
          "1979-04-01T00:00:00",
          "1979-07-01T00:00:00",
          "1979-10-01T00:00:00",
          "1980-01-01T00:00:00",
          "1980-04-01T00:00:00",
          "1980-07-01T00:00:00",
          "1980-10-01T00:00:00",
          "1981-01-01T00:00:00",
          "1981-04-01T00:00:00",
          "1981-07-01T00:00:00",
          "1981-10-01T00:00:00",
          "1982-01-01T00:00:00",
          "1982-04-01T00:00:00",
          "1982-07-01T00:00:00",
          "1982-10-01T00:00:00",
          "1983-01-01T00:00:00",
          "1983-04-01T00:00:00",
          "1983-07-01T00:00:00",
          "1983-10-01T00:00:00",
          "1984-01-01T00:00:00",
          "1984-04-01T00:00:00",
          "1984-07-01T00:00:00",
          "1984-10-01T00:00:00",
          "1985-01-01T00:00:00",
          "1985-04-01T00:00:00",
          "1985-07-01T00:00:00",
          "1985-10-01T00:00:00",
          "1986-01-01T00:00:00",
          "1986-04-01T00:00:00",
          "1986-07-01T00:00:00",
          "1986-10-01T00:00:00",
          "1987-01-01T00:00:00",
          "1987-04-01T00:00:00",
          "1987-07-01T00:00:00",
          "1987-10-01T00:00:00",
          "1988-01-01T00:00:00",
          "1988-04-01T00:00:00",
          "1988-07-01T00:00:00",
          "1988-10-01T00:00:00",
          "1989-01-01T00:00:00",
          "1989-04-01T00:00:00",
          "1989-07-01T00:00:00",
          "1989-10-01T00:00:00",
          "1990-01-01T00:00:00",
          "1990-04-01T00:00:00",
          "1990-07-01T00:00:00",
          "1990-10-01T00:00:00",
          "1991-01-01T00:00:00",
          "1991-04-01T00:00:00",
          "1991-07-01T00:00:00",
          "1991-10-01T00:00:00",
          "1992-01-01T00:00:00",
          "1992-04-01T00:00:00",
          "1992-07-01T00:00:00",
          "1992-10-01T00:00:00",
          "1993-01-01T00:00:00",
          "1993-04-01T00:00:00",
          "1993-07-01T00:00:00",
          "1993-10-01T00:00:00",
          "1994-01-01T00:00:00",
          "1994-04-01T00:00:00",
          "1994-07-01T00:00:00",
          "1994-10-01T00:00:00",
          "1995-01-01T00:00:00",
          "1995-04-01T00:00:00",
          "1995-07-01T00:00:00",
          "1995-10-01T00:00:00",
          "1996-01-01T00:00:00",
          "1996-04-01T00:00:00",
          "1996-07-01T00:00:00",
          "1996-10-01T00:00:00",
          "1997-01-01T00:00:00",
          "1997-04-01T00:00:00",
          "1997-07-01T00:00:00",
          "1997-10-01T00:00:00",
          "1998-01-01T00:00:00",
          "1998-04-01T00:00:00",
          "1998-07-01T00:00:00",
          "1998-10-01T00:00:00",
          "1999-01-01T00:00:00",
          "1999-04-01T00:00:00",
          "1999-07-01T00:00:00",
          "1999-10-01T00:00:00",
          "2000-01-01T00:00:00",
          "2000-04-01T00:00:00",
          "2000-07-01T00:00:00",
          "2000-10-01T00:00:00",
          "2001-01-01T00:00:00",
          "2001-04-01T00:00:00",
          "2001-07-01T00:00:00",
          "2001-10-01T00:00:00",
          "2002-01-01T00:00:00",
          "2002-04-01T00:00:00",
          "2002-07-01T00:00:00",
          "2002-10-01T00:00:00",
          "2003-01-01T00:00:00",
          "2003-04-01T00:00:00",
          "2003-07-01T00:00:00",
          "2003-10-01T00:00:00",
          "2004-01-01T00:00:00",
          "2004-04-01T00:00:00",
          "2004-07-01T00:00:00",
          "2004-10-01T00:00:00",
          "2005-01-01T00:00:00",
          "2005-04-01T00:00:00",
          "2005-07-01T00:00:00",
          "2005-10-01T00:00:00",
          "2006-01-01T00:00:00",
          "2006-04-01T00:00:00",
          "2006-07-01T00:00:00",
          "2006-10-01T00:00:00",
          "2007-01-01T00:00:00",
          "2007-04-01T00:00:00",
          "2007-07-01T00:00:00",
          "2007-10-01T00:00:00",
          "2008-01-01T00:00:00",
          "2008-04-01T00:00:00",
          "2008-07-01T00:00:00",
          "2008-10-01T00:00:00",
          "2009-01-01T00:00:00",
          "2009-04-01T00:00:00",
          "2009-07-01T00:00:00",
          "2009-10-01T00:00:00",
          "2010-01-01T00:00:00",
          "2010-04-01T00:00:00"
         ],
         "y": [
          284,
          213,
          227,
          308,
          262,
          228,
          236,
          320,
          272,
          233,
          237,
          313,
          261,
          227,
          250,
          314,
          286,
          227,
          260,
          311,
          295,
          233,
          257,
          339,
          279,
          250,
          270,
          346,
          294,
          255,
          278,
          363,
          313,
          273,
          300,
          370,
          331,
          288,
          306,
          386,
          335,
          288,
          308,
          402,
          353,
          316,
          325,
          405,
          393,
          319,
          327,
          442,
          383,
          332,
          361,
          446,
          387,
          357,
          374,
          466,
          410,
          370,
          379,
          487,
          419,
          378,
          393,
          506,
          458,
          387,
          427,
          565,
          465,
          445,
          450,
          556,
          500,
          452,
          435,
          554,
          510,
          433,
          453,
          548,
          486,
          453,
          457,
          566,
          515,
          464,
          431,
          588,
          503,
          443,
          448,
          555,
          513,
          427,
          473,
          526,
          548,
          440,
          469,
          575,
          493,
          433,
          480,
          576,
          475,
          405,
          435,
          535,
          453,
          430,
          417,
          552,
          464,
          417,
          423,
          554,
          459,
          428,
          429,
          534,
          481,
          416,
          440,
          538,
          474,
          440,
          447,
          598,
          467,
          439,
          446,
          567,
          485,
          441,
          429,
          599,
          464,
          424,
          436,
          574,
          443,
          410,
          420,
          532,
          433,
          421,
          410,
          512,
          449,
          381,
          423,
          531,
          426,
          408,
          416,
          520,
          409,
          398,
          398,
          507,
          432,
          398,
          406,
          526,
          428,
          397,
          403,
          517,
          435,
          383,
          424,
          521,
          421,
          402,
          414,
          500,
          451,
          380,
          416,
          492,
          428,
          408,
          406,
          506,
          435,
          380,
          421,
          490,
          435,
          390,
          412,
          454,
          416,
          403,
          408,
          482,
          438,
          386,
          405,
          491,
          427,
          383,
          394,
          473,
          420,
          390,
          410,
          488,
          415,
          398,
          419,
          488,
          414,
          374
         ]
        },
        {
         "mode": "lines",
         "name": "Prediction",
         "type": "scatter",
         "x": [
          "2000-01-01",
          "2000-04-01",
          "2000-07-01",
          "2000-10-01",
          "2001-01-01",
          "2001-04-01",
          "2001-07-01",
          "2001-10-01",
          "2002-01-01",
          "2002-04-01",
          "2002-07-01",
          "2002-10-01",
          "2003-01-01",
          "2003-04-01",
          "2003-07-01",
          "2003-10-01",
          "2004-01-01",
          "2004-04-01",
          "2004-07-01",
          "2004-10-01",
          "2005-01-01",
          "2005-04-01",
          "2005-07-01",
          "2005-10-01",
          "2006-01-01",
          "2006-04-01",
          "2006-07-01",
          "2006-10-01",
          "2007-01-01",
          "2007-04-01",
          "2007-07-01",
          "2007-10-01",
          "2008-01-01",
          "2008-04-01",
          "2008-07-01",
          "2008-10-01",
          "2009-01-01",
          "2009-04-01",
          "2009-07-01",
          "2009-10-01",
          "2010-01-01",
          "2010-04-01"
         ],
         "y": [
          442.4387512207031,
          402.0646057128906,
          449.6193542480469,
          521.45947265625,
          444.540283203125,
          408.3641052246094,
          448.30517578125,
          514.4088134765625,
          446.89691162109375,
          412.5870666503906,
          449.2049255371094,
          524.6257934570312,
          444.059326171875,
          418.44482421875,
          442.5074768066406,
          500.0735168457031,
          452.4436645507813,
          418.6611022949219,
          443.7039184570313,
          485.978515625,
          450.630615234375,
          415.1457214355469,
          449.6346435546875,
          482.955810546875,
          446.5788269042969,
          401.6553955078125,
          467.9978637695313,
          494.6686706542969,
          443.0382080078125,
          408.2011413574219,
          458.71875,
          485.22503662109375,
          434.4448547363281,
          413.7504577636719,
          452.0794067382813,
          484.1150207519531,
          437.0210266113281,
          420.0023193359375,
          445.0953674316406,
          478.77685546875,
          448.1866760253906,
          433.2815551757813
         ]
        }
       ],
       "layout": {
        "template": {
         "data": {
          "bar": [
           {
            "error_x": {
             "color": "#2a3f5f"
            },
            "error_y": {
             "color": "#2a3f5f"
            },
            "marker": {
             "line": {
              "color": "#E5ECF6",
              "width": 0.5
             },
             "pattern": {
              "fillmode": "overlay",
              "size": 10,
              "solidity": 0.2
             }
            },
            "type": "bar"
           }
          ],
          "barpolar": [
           {
            "marker": {
             "line": {
              "color": "#E5ECF6",
              "width": 0.5
             },
             "pattern": {
              "fillmode": "overlay",
              "size": 10,
              "solidity": 0.2
             }
            },
            "type": "barpolar"
           }
          ],
          "carpet": [
           {
            "aaxis": {
             "endlinecolor": "#2a3f5f",
             "gridcolor": "white",
             "linecolor": "white",
             "minorgridcolor": "white",
             "startlinecolor": "#2a3f5f"
            },
            "baxis": {
             "endlinecolor": "#2a3f5f",
             "gridcolor": "white",
             "linecolor": "white",
             "minorgridcolor": "white",
             "startlinecolor": "#2a3f5f"
            },
            "type": "carpet"
           }
          ],
          "choropleth": [
           {
            "colorbar": {
             "outlinewidth": 0,
             "ticks": ""
            },
            "type": "choropleth"
           }
          ],
          "contour": [
           {
            "colorbar": {
             "outlinewidth": 0,
             "ticks": ""
            },
            "colorscale": [
             [
              0,
              "#0d0887"
             ],
             [
              0.1111111111111111,
              "#46039f"
             ],
             [
              0.2222222222222222,
              "#7201a8"
             ],
             [
              0.3333333333333333,
              "#9c179e"
             ],
             [
              0.4444444444444444,
              "#bd3786"
             ],
             [
              0.5555555555555556,
              "#d8576b"
             ],
             [
              0.6666666666666666,
              "#ed7953"
             ],
             [
              0.7777777777777778,
              "#fb9f3a"
             ],
             [
              0.8888888888888888,
              "#fdca26"
             ],
             [
              1,
              "#f0f921"
             ]
            ],
            "type": "contour"
           }
          ],
          "contourcarpet": [
           {
            "colorbar": {
             "outlinewidth": 0,
             "ticks": ""
            },
            "type": "contourcarpet"
           }
          ],
          "heatmap": [
           {
            "colorbar": {
             "outlinewidth": 0,
             "ticks": ""
            },
            "colorscale": [
             [
              0,
              "#0d0887"
             ],
             [
              0.1111111111111111,
              "#46039f"
             ],
             [
              0.2222222222222222,
              "#7201a8"
             ],
             [
              0.3333333333333333,
              "#9c179e"
             ],
             [
              0.4444444444444444,
              "#bd3786"
             ],
             [
              0.5555555555555556,
              "#d8576b"
             ],
             [
              0.6666666666666666,
              "#ed7953"
             ],
             [
              0.7777777777777778,
              "#fb9f3a"
             ],
             [
              0.8888888888888888,
              "#fdca26"
             ],
             [
              1,
              "#f0f921"
             ]
            ],
            "type": "heatmap"
           }
          ],
          "heatmapgl": [
           {
            "colorbar": {
             "outlinewidth": 0,
             "ticks": ""
            },
            "colorscale": [
             [
              0,
              "#0d0887"
             ],
             [
              0.1111111111111111,
              "#46039f"
             ],
             [
              0.2222222222222222,
              "#7201a8"
             ],
             [
              0.3333333333333333,
              "#9c179e"
             ],
             [
              0.4444444444444444,
              "#bd3786"
             ],
             [
              0.5555555555555556,
              "#d8576b"
             ],
             [
              0.6666666666666666,
              "#ed7953"
             ],
             [
              0.7777777777777778,
              "#fb9f3a"
             ],
             [
              0.8888888888888888,
              "#fdca26"
             ],
             [
              1,
              "#f0f921"
             ]
            ],
            "type": "heatmapgl"
           }
          ],
          "histogram": [
           {
            "marker": {
             "pattern": {
              "fillmode": "overlay",
              "size": 10,
              "solidity": 0.2
             }
            },
            "type": "histogram"
           }
          ],
          "histogram2d": [
           {
            "colorbar": {
             "outlinewidth": 0,
             "ticks": ""
            },
            "colorscale": [
             [
              0,
              "#0d0887"
             ],
             [
              0.1111111111111111,
              "#46039f"
             ],
             [
              0.2222222222222222,
              "#7201a8"
             ],
             [
              0.3333333333333333,
              "#9c179e"
             ],
             [
              0.4444444444444444,
              "#bd3786"
             ],
             [
              0.5555555555555556,
              "#d8576b"
             ],
             [
              0.6666666666666666,
              "#ed7953"
             ],
             [
              0.7777777777777778,
              "#fb9f3a"
             ],
             [
              0.8888888888888888,
              "#fdca26"
             ],
             [
              1,
              "#f0f921"
             ]
            ],
            "type": "histogram2d"
           }
          ],
          "histogram2dcontour": [
           {
            "colorbar": {
             "outlinewidth": 0,
             "ticks": ""
            },
            "colorscale": [
             [
              0,
              "#0d0887"
             ],
             [
              0.1111111111111111,
              "#46039f"
             ],
             [
              0.2222222222222222,
              "#7201a8"
             ],
             [
              0.3333333333333333,
              "#9c179e"
             ],
             [
              0.4444444444444444,
              "#bd3786"
             ],
             [
              0.5555555555555556,
              "#d8576b"
             ],
             [
              0.6666666666666666,
              "#ed7953"
             ],
             [
              0.7777777777777778,
              "#fb9f3a"
             ],
             [
              0.8888888888888888,
              "#fdca26"
             ],
             [
              1,
              "#f0f921"
             ]
            ],
            "type": "histogram2dcontour"
           }
          ],
          "mesh3d": [
           {
            "colorbar": {
             "outlinewidth": 0,
             "ticks": ""
            },
            "type": "mesh3d"
           }
          ],
          "parcoords": [
           {
            "line": {
             "colorbar": {
              "outlinewidth": 0,
              "ticks": ""
             }
            },
            "type": "parcoords"
           }
          ],
          "pie": [
           {
            "automargin": true,
            "type": "pie"
           }
          ],
          "scatter": [
           {
            "fillpattern": {
             "fillmode": "overlay",
             "size": 10,
             "solidity": 0.2
            },
            "type": "scatter"
           }
          ],
          "scatter3d": [
           {
            "line": {
             "colorbar": {
              "outlinewidth": 0,
              "ticks": ""
             }
            },
            "marker": {
             "colorbar": {
              "outlinewidth": 0,
              "ticks": ""
             }
            },
            "type": "scatter3d"
           }
          ],
          "scattercarpet": [
           {
            "marker": {
             "colorbar": {
              "outlinewidth": 0,
              "ticks": ""
             }
            },
            "type": "scattercarpet"
           }
          ],
          "scattergeo": [
           {
            "marker": {
             "colorbar": {
              "outlinewidth": 0,
              "ticks": ""
             }
            },
            "type": "scattergeo"
           }
          ],
          "scattergl": [
           {
            "marker": {
             "colorbar": {
              "outlinewidth": 0,
              "ticks": ""
             }
            },
            "type": "scattergl"
           }
          ],
          "scattermapbox": [
           {
            "marker": {
             "colorbar": {
              "outlinewidth": 0,
              "ticks": ""
             }
            },
            "type": "scattermapbox"
           }
          ],
          "scatterpolar": [
           {
            "marker": {
             "colorbar": {
              "outlinewidth": 0,
              "ticks": ""
             }
            },
            "type": "scatterpolar"
           }
          ],
          "scatterpolargl": [
           {
            "marker": {
             "colorbar": {
              "outlinewidth": 0,
              "ticks": ""
             }
            },
            "type": "scatterpolargl"
           }
          ],
          "scatterternary": [
           {
            "marker": {
             "colorbar": {
              "outlinewidth": 0,
              "ticks": ""
             }
            },
            "type": "scatterternary"
           }
          ],
          "surface": [
           {
            "colorbar": {
             "outlinewidth": 0,
             "ticks": ""
            },
            "colorscale": [
             [
              0,
              "#0d0887"
             ],
             [
              0.1111111111111111,
              "#46039f"
             ],
             [
              0.2222222222222222,
              "#7201a8"
             ],
             [
              0.3333333333333333,
              "#9c179e"
             ],
             [
              0.4444444444444444,
              "#bd3786"
             ],
             [
              0.5555555555555556,
              "#d8576b"
             ],
             [
              0.6666666666666666,
              "#ed7953"
             ],
             [
              0.7777777777777778,
              "#fb9f3a"
             ],
             [
              0.8888888888888888,
              "#fdca26"
             ],
             [
              1,
              "#f0f921"
             ]
            ],
            "type": "surface"
           }
          ],
          "table": [
           {
            "cells": {
             "fill": {
              "color": "#EBF0F8"
             },
             "line": {
              "color": "white"
             }
            },
            "header": {
             "fill": {
              "color": "#C8D4E3"
             },
             "line": {
              "color": "white"
             }
            },
            "type": "table"
           }
          ]
         },
         "layout": {
          "annotationdefaults": {
           "arrowcolor": "#2a3f5f",
           "arrowhead": 0,
           "arrowwidth": 1
          },
          "autotypenumbers": "strict",
          "coloraxis": {
           "colorbar": {
            "outlinewidth": 0,
            "ticks": ""
           }
          },
          "colorscale": {
           "diverging": [
            [
             0,
             "#8e0152"
            ],
            [
             0.1,
             "#c51b7d"
            ],
            [
             0.2,
             "#de77ae"
            ],
            [
             0.3,
             "#f1b6da"
            ],
            [
             0.4,
             "#fde0ef"
            ],
            [
             0.5,
             "#f7f7f7"
            ],
            [
             0.6,
             "#e6f5d0"
            ],
            [
             0.7,
             "#b8e186"
            ],
            [
             0.8,
             "#7fbc41"
            ],
            [
             0.9,
             "#4d9221"
            ],
            [
             1,
             "#276419"
            ]
           ],
           "sequential": [
            [
             0,
             "#0d0887"
            ],
            [
             0.1111111111111111,
             "#46039f"
            ],
            [
             0.2222222222222222,
             "#7201a8"
            ],
            [
             0.3333333333333333,
             "#9c179e"
            ],
            [
             0.4444444444444444,
             "#bd3786"
            ],
            [
             0.5555555555555556,
             "#d8576b"
            ],
            [
             0.6666666666666666,
             "#ed7953"
            ],
            [
             0.7777777777777778,
             "#fb9f3a"
            ],
            [
             0.8888888888888888,
             "#fdca26"
            ],
            [
             1,
             "#f0f921"
            ]
           ],
           "sequentialminus": [
            [
             0,
             "#0d0887"
            ],
            [
             0.1111111111111111,
             "#46039f"
            ],
            [
             0.2222222222222222,
             "#7201a8"
            ],
            [
             0.3333333333333333,
             "#9c179e"
            ],
            [
             0.4444444444444444,
             "#bd3786"
            ],
            [
             0.5555555555555556,
             "#d8576b"
            ],
            [
             0.6666666666666666,
             "#ed7953"
            ],
            [
             0.7777777777777778,
             "#fb9f3a"
            ],
            [
             0.8888888888888888,
             "#fdca26"
            ],
            [
             1,
             "#f0f921"
            ]
           ]
          },
          "colorway": [
           "#636efa",
           "#EF553B",
           "#00cc96",
           "#ab63fa",
           "#FFA15A",
           "#19d3f3",
           "#FF6692",
           "#B6E880",
           "#FF97FF",
           "#FECB52"
          ],
          "font": {
           "color": "#2a3f5f"
          },
          "geo": {
           "bgcolor": "white",
           "lakecolor": "white",
           "landcolor": "#E5ECF6",
           "showlakes": true,
           "showland": true,
           "subunitcolor": "white"
          },
          "hoverlabel": {
           "align": "left"
          },
          "hovermode": "closest",
          "mapbox": {
           "style": "light"
          },
          "paper_bgcolor": "white",
          "plot_bgcolor": "#E5ECF6",
          "polar": {
           "angularaxis": {
            "gridcolor": "white",
            "linecolor": "white",
            "ticks": ""
           },
           "bgcolor": "#E5ECF6",
           "radialaxis": {
            "gridcolor": "white",
            "linecolor": "white",
            "ticks": ""
           }
          },
          "scene": {
           "xaxis": {
            "backgroundcolor": "#E5ECF6",
            "gridcolor": "white",
            "gridwidth": 2,
            "linecolor": "white",
            "showbackground": true,
            "ticks": "",
            "zerolinecolor": "white"
           },
           "yaxis": {
            "backgroundcolor": "#E5ECF6",
            "gridcolor": "white",
            "gridwidth": 2,
            "linecolor": "white",
            "showbackground": true,
            "ticks": "",
            "zerolinecolor": "white"
           },
           "zaxis": {
            "backgroundcolor": "#E5ECF6",
            "gridcolor": "white",
            "gridwidth": 2,
            "linecolor": "white",
            "showbackground": true,
            "ticks": "",
            "zerolinecolor": "white"
           }
          },
          "shapedefaults": {
           "line": {
            "color": "#2a3f5f"
           }
          },
          "ternary": {
           "aaxis": {
            "gridcolor": "white",
            "linecolor": "white",
            "ticks": ""
           },
           "baxis": {
            "gridcolor": "white",
            "linecolor": "white",
            "ticks": ""
           },
           "bgcolor": "#E5ECF6",
           "caxis": {
            "gridcolor": "white",
            "linecolor": "white",
            "ticks": ""
           }
          },
          "title": {
           "x": 0.05
          },
          "xaxis": {
           "automargin": true,
           "gridcolor": "white",
           "linecolor": "white",
           "ticks": "",
           "title": {
            "standoff": 15
           },
           "zerolinecolor": "white",
           "zerolinewidth": 2
          },
          "yaxis": {
           "automargin": true,
           "gridcolor": "white",
           "linecolor": "white",
           "ticks": "",
           "title": {
            "standoff": 15
           },
           "zerolinecolor": "white",
           "zerolinewidth": 2
          }
         }
        },
        "title": {
         "text": "Australian Beer Production"
        },
        "xaxis": {
         "rangeslider": {
          "visible": true
         },
         "title": {
          "text": "Date"
         }
        },
        "yaxis": {
         "title": {
          "text": "Value"
         }
        }
       }
      }
     },
     "metadata": {},
     "output_type": "display_data"
    }
   ],
   "source": [
    "plot_time_series(df_ausbeer, df_ausbeer_fcst, title='Australian Beer Production')"
   ]
  }
 ],
 "metadata": {
  "kernelspec": {
   "display_name": "env",
   "language": "python",
   "name": "python3"
  },
  "language_info": {
   "codemirror_mode": {
    "name": "ipython",
    "version": 3
   },
   "file_extension": ".py",
   "mimetype": "text/x-python",
   "name": "python",
   "nbconvert_exporter": "python",
   "pygments_lexer": "ipython3",
   "version": "3.8.8"
  }
 },
 "nbformat": 4,
 "nbformat_minor": 2
}
